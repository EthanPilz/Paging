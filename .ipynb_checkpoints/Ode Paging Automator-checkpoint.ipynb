{
 "cells": [
  {
   "cell_type": "code",
   "execution_count": 2,
   "id": "8e1c1cba",
   "metadata": {},
   "outputs": [],
   "source": [
    "##Load in input file\n",
    "\n",
    "from openpyxl import Workbook\n",
    "from openpyxl import load_workbook\n",
    "import pandas as pd\n",
    "from datetime import datetime\n",
    "import easygui"
   ]
  },
  {
   "cell_type": "code",
   "execution_count": null,
   "id": "08f64ed3",
   "metadata": {},
   "outputs": [],
   "source": [
    "path = easygui.fileopenbox()"
   ]
  },
  {
   "cell_type": "code",
   "execution_count": null,
   "id": "3140d826",
   "metadata": {},
   "outputs": [],
   "source": [
    "inputFile = path\n",
    "outputFile = 'output2_' + datetime.now().strftime(\"%Y-%m-%d %Ih%Mm %p\") + '.xlsx'"
   ]
  },
  {
   "cell_type": "code",
   "execution_count": null,
   "id": "7b6788b5",
   "metadata": {},
   "outputs": [],
   "source": []
  },
  {
   "cell_type": "code",
   "execution_count": null,
   "id": "07cd8bf3",
   "metadata": {},
   "outputs": [],
   "source": [
    "wb = load_workbook(filename = inputFile)\n",
    "ws = wb.active"
   ]
  },
  {
   "cell_type": "code",
   "execution_count": null,
   "id": "82a7f1d8",
   "metadata": {},
   "outputs": [],
   "source": [
    "## Delete unneeded info from table\n",
    "\n",
    "ws.delete_cols(2, 14)\n",
    "ws.delete_cols(5, 4)"
   ]
  },
  {
   "cell_type": "code",
   "execution_count": null,
   "id": "bd3dc77a",
   "metadata": {},
   "outputs": [],
   "source": [
    "## Shift all cells to the right by one\n",
    "ws.move_range(\"A1:D100\", rows=0, cols=1)\n",
    "\n",
    "## Move call number column all the way to the left\n",
    "ws.move_range(\"E1:E100\", rows=0, cols=-4)"
   ]
  },
  {
   "cell_type": "code",
   "execution_count": null,
   "id": "9e7c2a2c",
   "metadata": {},
   "outputs": [],
   "source": [
    "## Save the output file\n",
    "wb.save(outputFile)"
   ]
  },
  {
   "cell_type": "code",
   "execution_count": null,
   "id": "ce84ef0a",
   "metadata": {},
   "outputs": [],
   "source": [
    "## read by default 1st sheet of an excel file\n",
    "df1 = pd.read_excel(outputFile)\n",
    " \n",
    "#print(df1)"
   ]
  },
  {
   "cell_type": "code",
   "execution_count": null,
   "id": "3d30a272",
   "metadata": {},
   "outputs": [],
   "source": [
    "## Sort by Location then Call Number\n",
    "\n",
    "df2 = df1.sort_values(['Location', 'Call Number'])\n",
    "#print(df2)"
   ]
  },
  {
   "cell_type": "code",
   "execution_count": null,
   "id": "f61efd54",
   "metadata": {},
   "outputs": [],
   "source": [
    "df2.to_excel(outputFile)"
   ]
  },
  {
   "cell_type": "code",
   "execution_count": null,
   "id": "7e7f5546",
   "metadata": {},
   "outputs": [],
   "source": [
    "## Load back in the excel file from pandas output\n",
    "\n",
    "wb = load_workbook(filename = outputFile)\n",
    "ws = wb.active"
   ]
  },
  {
   "cell_type": "code",
   "execution_count": null,
   "id": "018833c7",
   "metadata": {},
   "outputs": [],
   "source": [
    "ws.delete_cols(1, 1)"
   ]
  },
  {
   "cell_type": "code",
   "execution_count": null,
   "id": "ff87c054",
   "metadata": {},
   "outputs": [],
   "source": [
    "## Make columns the correct width for visual clarity\n",
    "\n",
    "dims = {}\n",
    "for row in ws.rows:\n",
    "    for cell in row:\n",
    "        if cell.value:\n",
    "            dims[cell.column_letter] = max((dims.get(cell.column_letter, 0), len(str(cell.value))))\n",
    "for col, value in dims.items():\n",
    "    ws.column_dimensions[col].width = value"
   ]
  },
  {
   "cell_type": "code",
   "execution_count": null,
   "id": "b1712c83",
   "metadata": {},
   "outputs": [],
   "source": [
    "## Set print area to only nonzero cells\n",
    "\n",
    "printArea = 'A1:D'\n",
    "printArea = printArea + str(df2.shape[0])\n",
    "ws.print_area = printArea\n",
    "\n",
    "ws.page_setup.orientation = ws.ORIENTATION_LANDSCAPE\n",
    "ws.page_setup.fitToPage = True\n",
    "ws.page_setup.fitToWidth = True"
   ]
  },
  {
   "cell_type": "code",
   "execution_count": null,
   "id": "2c73f7d2",
   "metadata": {},
   "outputs": [],
   "source": [
    "## Save the output file\n",
    "wb.save(outputFile)"
   ]
  }
 ],
 "metadata": {
  "kernelspec": {
   "display_name": "Python 3 (ipykernel)",
   "language": "python",
   "name": "python3"
  },
  "language_info": {
   "codemirror_mode": {
    "name": "ipython",
    "version": 3
   },
   "file_extension": ".py",
   "mimetype": "text/x-python",
   "name": "python",
   "nbconvert_exporter": "python",
   "pygments_lexer": "ipython3",
   "version": "3.10.9"
  }
 },
 "nbformat": 4,
 "nbformat_minor": 5
}
